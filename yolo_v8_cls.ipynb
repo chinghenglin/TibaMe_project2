{
  "nbformat": 4,
  "nbformat_minor": 0,
  "metadata": {
    "colab": {
      "provenance": [],
      "gpuType": "T4",
      "authorship_tag": "ABX9TyOwuIr/9xS6gfRaMnFCG+zo",
      "include_colab_link": true
    },
    "kernelspec": {
      "name": "python3",
      "display_name": "Python 3"
    },
    "language_info": {
      "name": "python"
    },
    "accelerator": "GPU"
  },
  "cells": [
    {
      "cell_type": "markdown",
      "metadata": {
        "id": "view-in-github",
        "colab_type": "text"
      },
      "source": [
        "<a href=\"https://colab.research.google.com/github/chinghenglin/TibaMe_project2/blob/main/yolo_v8_cls.ipynb\" target=\"_parent\"><img src=\"https://colab.research.google.com/assets/colab-badge.svg\" alt=\"Open In Colab\"/></a>"
      ]
    },
    {
      "cell_type": "code",
      "execution_count": 1,
      "metadata": {
        "colab": {
          "base_uri": "https://localhost:8080/"
        },
        "id": "r-ecYfddr0d-",
        "outputId": "746a5bfb-fd53-4b3e-df50-c8f76f149980"
      },
      "outputs": [
        {
          "output_type": "stream",
          "name": "stdout",
          "text": [
            "Mounted at /content/gdrive\n"
          ]
        }
      ],
      "source": [
        "from google.colab import drive\n",
        "\n",
        "drive.mount('/content/gdrive')"
      ]
    },
    {
      "cell_type": "code",
      "source": [
        "!scp -r /content/gdrive/MyDrive/OverDRIVE_site54991_TibaMe_AI233_G4/YOLO訓練資料/影像分類 /content/"
      ],
      "metadata": {
        "id": "QYurhGZ8uYCD"
      },
      "execution_count": 2,
      "outputs": []
    },
    {
      "cell_type": "code",
      "source": [
        "import os\n",
        "\n",
        "# 資料夾名稱\n",
        "folders = [f.name for f in os.scandir('/content/影像分類') if os.path.isdir(f)]\n",
        "print(folders)\n",
        "print(len(folders))"
      ],
      "metadata": {
        "colab": {
          "base_uri": "https://localhost:8080/"
        },
        "id": "9bfJTApYs2YS",
        "outputId": "51f3f8de-c21f-4493-9f8f-9aad2e562680"
      },
      "execution_count": 3,
      "outputs": [
        {
          "output_type": "stream",
          "name": "stdout",
          "text": [
            "['C03W', 'A11W', 'A05S', 'A08N', 'D01N', 'A03E', 'C01E', 'B01S', 'A13W', 'E08N', 'A08S', 'A21W', 'C09W', 'C12W', 'A14W', 'D03S', 'E08S', 'E01N', 'C15S', 'A21E', 'A07E', 'C12E', 'E02N', 'A19S', 'E07N', 'A22N', 'C15N', 'A20N', 'A05N', 'A04N', 'A15E', 'A06W', 'C11W', 'A01N', 'A02E', 'C06E', 'A12E', 'E03N', 'C18E', 'C11E', 'C10W', 'A12W', 'C07N', 'A09E', 'C08E', 'C04N', 'A09W', 'A11E', 'E05S', 'E06N', 'C14W', 'A10E', 'A20S', 'A07W', 'A10W', 'A13E', 'A03W', 'C02W', 'C04S', 'C17S', 'C10E', 'E06S', 'A02W', 'C08W', 'C13W', 'A18W', 'D03N', 'A17W', 'C06W', 'C05S', 'A06E', 'E04N', 'C07S', 'B02S', 'B02N', 'A14E', 'A04S', 'A16N', 'A15W', 'E03S', 'C01W', 'E07S', 'D02E', 'C14E', 'C19S', 'E04S', 'C09E', 'C16W', 'B01N', 'E02S', 'C13E', 'E01S', 'C16E', 'D01S', 'E05N']\n",
            "95\n"
          ]
        }
      ]
    },
    {
      "cell_type": "code",
      "source": [
        "# 建立 test/ train/ 和 val/ 資料夾\n",
        "os.makedirs(\"data/tpstn/test\", exist_ok=True)\n",
        "os.makedirs(\"data/tpstn/train\", exist_ok=True)\n",
        "os.makedirs(\"data/tpstn/val\", exist_ok=True)"
      ],
      "metadata": {
        "id": "qmnZNwjpu0-k"
      },
      "execution_count": 4,
      "outputs": []
    },
    {
      "cell_type": "code",
      "source": [
        "import shutil\n",
        "import glob\n",
        "\n",
        "for folder in folders:\n",
        "    # 建立 test/ 資料夾下的子資料夾\n",
        "    os.makedirs(os.path.join(\"data/tpstn/test\", folder), exist_ok=True)\n",
        "\n",
        "    test_files  = [os.path.basename(fn) for fn in glob.glob(f'影像分類/{folder}/*_HH_*')]\n",
        "\n",
        "    for file in test_files:\n",
        "        src_path = os.path.join(\"影像分類\", folder, file)\n",
        "        dest_path = os.path.join(\"data/tpstn/test\", folder, file)\n",
        "        shutil.move(src_path, dest_path)\n"
      ],
      "metadata": {
        "id": "Ke3863zSvfBY"
      },
      "execution_count": 5,
      "outputs": []
    },
    {
      "cell_type": "code",
      "source": [
        "import random\n",
        "\n",
        "# 用來設定訓練資料和驗證資料比例的變數\n",
        "train_ratio = 0.8\n",
        "val_ratio = 0.2\n",
        "\n",
        "# 依序處理每個資料夾\n",
        "for folder in folders:\n",
        "    # 建立 train/ 和 val/ 資料夾下的子資料夾\n",
        "    os.makedirs(os.path.join(\"data/tpstn/train\", folder), exist_ok=True)\n",
        "    os.makedirs(os.path.join(\"data/tpstn/val\", folder), exist_ok=True)\n",
        "\n",
        "    # 取得該資料夾下所有影像檔案的檔名列表\n",
        "    files = os.listdir(f'影像分類/{folder}')\n",
        "\n",
        "    # 計算要從該資料夾中挑選多少筆資料放進驗證資料集\n",
        "    num_val_samples = int(len(files) * val_ratio)\n",
        "\n",
        "    # 隨機挑選影像檔案放進驗證資料集\n",
        "    val_files = random.sample(files, num_val_samples)\n",
        "\n",
        "    # 將影像檔案從原本的資料夾移動到驗證資料集的子資料夾\n",
        "    for file in val_files:\n",
        "        src_path = os.path.join('影像分類', folder, file)\n",
        "        dest_path = os.path.join(\"data/tpstn/val\", folder, file)\n",
        "        shutil.move(src_path, dest_path)\n",
        "\n",
        "    # 剩餘的影像檔案就是訓練資料集\n",
        "    train_files = [file for file in files if file not in val_files]\n",
        "\n",
        "    # 將影像檔案從原本的資料夾移動到訓練資料集的子資料夾\n",
        "    for file in train_files:\n",
        "        src_path = os.path.join('影像分類', folder, file)\n",
        "        dest_path = os.path.join(\"data/tpstn/train\", folder, file)\n",
        "        shutil.move(src_path, dest_path)\n",
        "\n",
        "print(\"影像資料已成功分割並移動到 train/ 和 val/ 資料夾中。\")"
      ],
      "metadata": {
        "colab": {
          "base_uri": "https://localhost:8080/"
        },
        "id": "asRlZuYxsO5Z",
        "outputId": "5fcc5c72-aa8d-4c34-a799-ca42655969d4"
      },
      "execution_count": 6,
      "outputs": [
        {
          "output_type": "stream",
          "name": "stdout",
          "text": [
            "影像資料已成功分割並移動到 train/ 和 val/ 資料夾中。\n"
          ]
        }
      ]
    },
    {
      "cell_type": "code",
      "source": [
        "!nvidia-smi"
      ],
      "metadata": {
        "colab": {
          "base_uri": "https://localhost:8080/"
        },
        "id": "O9WRwBP60EIL",
        "outputId": "b28c697e-c482-4a9f-f576-3483ae26cd23"
      },
      "execution_count": 7,
      "outputs": [
        {
          "output_type": "stream",
          "name": "stdout",
          "text": [
            "Sun Jul 30 08:21:42 2023       \n",
            "+-----------------------------------------------------------------------------+\n",
            "| NVIDIA-SMI 525.105.17   Driver Version: 525.105.17   CUDA Version: 12.0     |\n",
            "|-------------------------------+----------------------+----------------------+\n",
            "| GPU  Name        Persistence-M| Bus-Id        Disp.A | Volatile Uncorr. ECC |\n",
            "| Fan  Temp  Perf  Pwr:Usage/Cap|         Memory-Usage | GPU-Util  Compute M. |\n",
            "|                               |                      |               MIG M. |\n",
            "|===============================+======================+======================|\n",
            "|   0  Tesla T4            Off  | 00000000:00:04.0 Off |                    0 |\n",
            "| N/A   47C    P8     9W /  70W |      0MiB / 15360MiB |      0%      Default |\n",
            "|                               |                      |                  N/A |\n",
            "+-------------------------------+----------------------+----------------------+\n",
            "                                                                               \n",
            "+-----------------------------------------------------------------------------+\n",
            "| Processes:                                                                  |\n",
            "|  GPU   GI   CI        PID   Type   Process name                  GPU Memory |\n",
            "|        ID   ID                                                   Usage      |\n",
            "|=============================================================================|\n",
            "|  No running processes found                                                 |\n",
            "+-----------------------------------------------------------------------------+\n"
          ]
        }
      ]
    },
    {
      "cell_type": "code",
      "source": [
        "# Pip install method (recommended)\n",
        "!pip install ultralytics\n",
        "\n",
        "from IPython import display\n",
        "display.clear_output()\n",
        "\n",
        "import ultralytics\n",
        "ultralytics.checks()"
      ],
      "metadata": {
        "colab": {
          "base_uri": "https://localhost:8080/"
        },
        "id": "FJ85uIbZ0LkL",
        "outputId": "d8731eab-9ba0-4b16-cbfc-ba0083568d7d"
      },
      "execution_count": 8,
      "outputs": [
        {
          "output_type": "stream",
          "name": "stderr",
          "text": [
            "Ultralytics YOLOv8.0.145 🚀 Python-3.10.6 torch-2.0.1+cu118 CUDA:0 (Tesla T4, 15102MiB)\n",
            "Setup complete ✅ (2 CPUs, 12.7 GB RAM, 27.2/78.2 GB disk)\n"
          ]
        }
      ]
    },
    {
      "cell_type": "code",
      "source": [
        "data_dir = '/content/data/tpstn'"
      ],
      "metadata": {
        "id": "Zq5NrSG_0aMl"
      },
      "execution_count": 9,
      "outputs": []
    },
    {
      "cell_type": "code",
      "source": [
        "from ultralytics import YOLO\n",
        "from IPython.display import display, Image"
      ],
      "metadata": {
        "id": "iWXvSglv0USq"
      },
      "execution_count": 10,
      "outputs": []
    },
    {
      "cell_type": "code",
      "source": [
        "# Load a model\n",
        "model = YOLO('yolov8n-cls.pt')\n",
        "\n",
        "# Use the model\n",
        "results = model.train(data = data_dir, epochs = 10, imgsz = 512)"
      ],
      "metadata": {
        "colab": {
          "base_uri": "https://localhost:8080/"
        },
        "id": "veUTZB5e1a-p",
        "outputId": "5fb33f78-c075-4e1c-f8d1-ba6019135799"
      },
      "execution_count": 17,
      "outputs": [
        {
          "output_type": "stream",
          "name": "stderr",
          "text": [
            "Ultralytics YOLOv8.0.145 🚀 Python-3.10.6 torch-2.0.1+cu118 CUDA:0 (Tesla T4, 15102MiB)\n",
            "\u001b[34m\u001b[1mengine/trainer: \u001b[0mtask=classify, mode=train, model=yolov8n-cls.pt, data=/content/data/tpstn, epochs=10, patience=50, batch=16, imgsz=512, save=True, save_period=-1, cache=False, device=None, workers=8, project=None, name=None, exist_ok=False, pretrained=True, optimizer=auto, verbose=True, seed=0, deterministic=True, single_cls=False, rect=False, cos_lr=False, close_mosaic=10, resume=False, amp=True, fraction=1.0, profile=False, overlap_mask=True, mask_ratio=4, dropout=0.0, val=True, split=val, save_json=False, save_hybrid=False, conf=None, iou=0.7, max_det=300, half=False, dnn=False, plots=True, source=None, show=False, save_txt=False, save_conf=False, save_crop=False, show_labels=True, show_conf=True, vid_stride=1, line_width=None, visualize=False, augment=False, agnostic_nms=False, classes=None, retina_masks=False, boxes=True, format=torchscript, keras=False, optimize=False, int8=False, dynamic=False, simplify=False, opset=None, workspace=4, nms=False, lr0=0.01, lrf=0.01, momentum=0.937, weight_decay=0.0005, warmup_epochs=3.0, warmup_momentum=0.8, warmup_bias_lr=0.1, box=7.5, cls=0.5, dfl=1.5, pose=12.0, kobj=1.0, label_smoothing=0.0, nbs=64, hsv_h=0.015, hsv_s=0.7, hsv_v=0.4, degrees=0.0, translate=0.1, scale=0.5, shear=0.0, perspective=0.0, flipud=0.0, fliplr=0.5, mosaic=1.0, mixup=0.0, copy_paste=0.0, cfg=None, tracker=botsort.yaml, save_dir=runs/classify/train2\n",
            "Overriding model.yaml nc=1000 with nc=95\n",
            "\n",
            "                   from  n    params  module                                       arguments                     \n",
            "  0                  -1  1       464  ultralytics.nn.modules.conv.Conv             [3, 16, 3, 2]                 \n",
            "  1                  -1  1      4672  ultralytics.nn.modules.conv.Conv             [16, 32, 3, 2]                \n",
            "  2                  -1  1      7360  ultralytics.nn.modules.block.C2f             [32, 32, 1, True]             \n",
            "  3                  -1  1     18560  ultralytics.nn.modules.conv.Conv             [32, 64, 3, 2]                \n",
            "  4                  -1  2     49664  ultralytics.nn.modules.block.C2f             [64, 64, 2, True]             \n",
            "  5                  -1  1     73984  ultralytics.nn.modules.conv.Conv             [64, 128, 3, 2]               \n",
            "  6                  -1  2    197632  ultralytics.nn.modules.block.C2f             [128, 128, 2, True]           \n",
            "  7                  -1  1    295424  ultralytics.nn.modules.conv.Conv             [128, 256, 3, 2]              \n",
            "  8                  -1  1    460288  ultralytics.nn.modules.block.C2f             [256, 256, 1, True]           \n",
            "  9                  -1  1    451935  ultralytics.nn.modules.head.Classify         [256, 95]                     \n",
            "YOLOv8n-cls summary: 99 layers, 1559983 parameters, 1559983 gradients\n",
            "Transferred 156/158 items from pretrained weights\n",
            "\u001b[34m\u001b[1mTensorBoard: \u001b[0mStart with 'tensorboard --logdir runs/classify/train2', view at http://localhost:6006/\n",
            "\u001b[34m\u001b[1mAMP: \u001b[0mrunning Automatic Mixed Precision (AMP) checks with YOLOv8n...\n",
            "\u001b[34m\u001b[1mAMP: \u001b[0mchecks passed ✅\n",
            "\u001b[34m\u001b[1malbumentations: \u001b[0mRandomResizedCrop(p=1.0, height=512, width=512, scale=(0.5, 1.0), ratio=(0.75, 1.3333333333333333), interpolation=1), HorizontalFlip(p=0.5), ColorJitter(p=0.5, brightness=[0.6, 1.4], contrast=[0.6, 1.4], saturation=[0.30000000000000004, 1.7], hue=[-0.015, 0.015]), Normalize(p=1.0, mean=(0.0, 0.0, 0.0), std=(1.0, 1.0, 1.0), max_pixel_value=255.0), ToTensorV2(always_apply=True, p=1.0, transpose_mask=False)\n",
            "\u001b[34m\u001b[1moptimizer:\u001b[0m AdamW(lr=0.000714, momentum=0.9) with parameter groups 26 weight(decay=0.0), 27 weight(decay=0.0005), 27 bias(decay=0.0)\n",
            "Image sizes 512 train, 512 val\n",
            "Using 2 dataloader workers\n",
            "Logging results to \u001b[1mruns/classify/train2\u001b[0m\n",
            "Starting training for 10 epochs...\n",
            "Closing dataloader mosaic\n",
            "\n",
            "      Epoch    GPU_mem       loss  Instances       Size\n",
            "       1/10      1.02G     0.7489         16        512: 100%|██████████| 692/692 [02:51<00:00,  4.04it/s]\n",
            "               classes   top1_acc   top5_acc: 100%|██████████| 86/86 [00:16<00:00,  5.24it/s]\n",
            "                   all      0.844       0.98\n",
            "\n",
            "      Epoch    GPU_mem       loss  Instances       Size\n",
            "       2/10     0.958G    0.08771         16        512: 100%|██████████| 692/692 [02:38<00:00,  4.37it/s]\n",
            "               classes   top1_acc   top5_acc: 100%|██████████| 86/86 [00:17<00:00,  4.87it/s]\n",
            "                   all       0.98          1\n",
            "\n",
            "      Epoch    GPU_mem       loss  Instances       Size\n",
            "       3/10     0.958G    0.01957         16        512: 100%|██████████| 692/692 [02:36<00:00,  4.41it/s]\n",
            "               classes   top1_acc   top5_acc: 100%|██████████| 86/86 [00:16<00:00,  5.15it/s]\n",
            "                   all      0.985      0.999\n",
            "\n",
            "      Epoch    GPU_mem       loss  Instances       Size\n",
            "       4/10     0.958G   0.009021         16        512: 100%|██████████| 692/692 [02:37<00:00,  4.40it/s]\n",
            "               classes   top1_acc   top5_acc: 100%|██████████| 86/86 [00:16<00:00,  5.11it/s]\n",
            "                   all      0.995          1\n",
            "\n",
            "      Epoch    GPU_mem       loss  Instances       Size\n",
            "       5/10     0.958G   0.004332         16        512: 100%|██████████| 692/692 [02:37<00:00,  4.40it/s]\n",
            "               classes   top1_acc   top5_acc: 100%|██████████| 86/86 [00:16<00:00,  5.16it/s]\n",
            "                   all       0.99          1\n",
            "\n",
            "      Epoch    GPU_mem       loss  Instances       Size\n",
            "       6/10     0.958G    0.00313         16        512: 100%|██████████| 692/692 [02:36<00:00,  4.41it/s]\n",
            "               classes   top1_acc   top5_acc: 100%|██████████| 86/86 [00:16<00:00,  5.27it/s]\n",
            "                   all      0.997          1\n",
            "\n",
            "      Epoch    GPU_mem       loss  Instances       Size\n",
            "       7/10     0.956G   0.002108         16        512: 100%|██████████| 692/692 [02:36<00:00,  4.42it/s]\n",
            "               classes   top1_acc   top5_acc: 100%|██████████| 86/86 [00:16<00:00,  5.21it/s]\n",
            "                   all      0.997          1\n",
            "\n",
            "      Epoch    GPU_mem       loss  Instances       Size\n",
            "       8/10     0.956G   0.001141         16        512: 100%|██████████| 692/692 [02:33<00:00,  4.50it/s]\n",
            "               classes   top1_acc   top5_acc: 100%|██████████| 86/86 [00:16<00:00,  5.23it/s]\n",
            "                   all      0.997          1\n",
            "\n",
            "      Epoch    GPU_mem       loss  Instances       Size\n",
            "       9/10     0.958G  0.0006647         16        512: 100%|██████████| 692/692 [02:34<00:00,  4.47it/s]\n",
            "               classes   top1_acc   top5_acc: 100%|██████████| 86/86 [00:16<00:00,  5.25it/s]\n",
            "                   all      0.998          1\n",
            "\n",
            "      Epoch    GPU_mem       loss  Instances       Size\n",
            "      10/10     0.956G   0.000592         16        512: 100%|██████████| 692/692 [02:36<00:00,  4.42it/s]\n",
            "               classes   top1_acc   top5_acc: 100%|██████████| 86/86 [00:18<00:00,  4.57it/s]\n",
            "                   all      0.997          1\n",
            "\n",
            "10 epochs completed in 0.495 hours.\n",
            "Optimizer stripped from runs/classify/train2/weights/last.pt, 3.2MB\n",
            "Optimizer stripped from runs/classify/train2/weights/best.pt, 3.2MB\n",
            "Results saved to \u001b[1mruns/classify/train2\u001b[0m\n"
          ]
        }
      ]
    },
    {
      "cell_type": "code",
      "source": [
        "!scp -r /content/runs /content/gdrive/MyDrive/YOLO_v8/20230730/"
      ],
      "metadata": {
        "id": "HmYOXpnv2j_U"
      },
      "execution_count": 18,
      "outputs": []
    },
    {
      "cell_type": "code",
      "source": [],
      "metadata": {
        "id": "oqhJpufQ6z5z"
      },
      "execution_count": null,
      "outputs": []
    }
  ]
}